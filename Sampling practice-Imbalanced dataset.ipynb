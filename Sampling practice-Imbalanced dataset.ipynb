{
  "nbformat": 4,
  "nbformat_minor": 0,
  "metadata": {
    "colab": {
      "provenance": []
    },
    "kernelspec": {
      "name": "python3",
      "display_name": "Python 3"
    },
    "language_info": {
      "name": "python"
    }
  },
  "cells": [
    {
      "cell_type": "markdown",
      "source": [
        "# Assignment 4: Sampling \n",
        "--------------------------\n",
        "**Dr. Dave Wanik - University of Connecticut**\n",
        "\n",
        "Let's try to do three styles of sampling with code. "
      ],
      "metadata": {
        "id": "I_fAv32go464"
      }
    },
    {
      "cell_type": "markdown",
      "source": [
        "For this assignment, I'd like you to apply the topics of  undersampling, oversampling and SMOTE to a toy dataset to see if you get better performance by using these sampling methods. In my experience, sampling helps sometimes but not all times. "
      ],
      "metadata": {
        "id": "8NEq5H1OpkhO"
      }
    },
    {
      "cell_type": "markdown",
      "source": [
        "# Data\n",
        "Everybody will have the same dataset."
      ],
      "metadata": {
        "id": "LLIW4Qrbp4Qm"
      }
    },
    {
      "cell_type": "code",
      "source": [
        "import pandas as pd\n",
        "df = pd.read_csv('/content/sample_data/california_housing_train.csv')"
      ],
      "metadata": {
        "id": "nJ1bW4MUp61s"
      },
      "execution_count": 99,
      "outputs": []
    },
    {
      "cell_type": "code",
      "source": [
        "df.head()"
      ],
      "metadata": {
        "colab": {
          "base_uri": "https://localhost:8080/",
          "height": 206
        },
        "id": "PUeW08-xrxbW",
        "outputId": "423303bf-11e4-4fb8-9448-1661382b4df6"
      },
      "execution_count": 100,
      "outputs": [
        {
          "output_type": "execute_result",
          "data": {
            "text/plain": [
              "   longitude  latitude  housing_median_age  total_rooms  total_bedrooms  \\\n",
              "0    -114.31     34.19                15.0       5612.0          1283.0   \n",
              "1    -114.47     34.40                19.0       7650.0          1901.0   \n",
              "2    -114.56     33.69                17.0        720.0           174.0   \n",
              "3    -114.57     33.64                14.0       1501.0           337.0   \n",
              "4    -114.57     33.57                20.0       1454.0           326.0   \n",
              "\n",
              "   population  households  median_income  median_house_value  \n",
              "0      1015.0       472.0         1.4936             66900.0  \n",
              "1      1129.0       463.0         1.8200             80100.0  \n",
              "2       333.0       117.0         1.6509             85700.0  \n",
              "3       515.0       226.0         3.1917             73400.0  \n",
              "4       624.0       262.0         1.9250             65500.0  "
            ],
            "text/html": [
              "\n",
              "  <div id=\"df-b9c8b1d1-ee63-4d88-9ec0-d12d39a42a41\">\n",
              "    <div class=\"colab-df-container\">\n",
              "      <div>\n",
              "<style scoped>\n",
              "    .dataframe tbody tr th:only-of-type {\n",
              "        vertical-align: middle;\n",
              "    }\n",
              "\n",
              "    .dataframe tbody tr th {\n",
              "        vertical-align: top;\n",
              "    }\n",
              "\n",
              "    .dataframe thead th {\n",
              "        text-align: right;\n",
              "    }\n",
              "</style>\n",
              "<table border=\"1\" class=\"dataframe\">\n",
              "  <thead>\n",
              "    <tr style=\"text-align: right;\">\n",
              "      <th></th>\n",
              "      <th>longitude</th>\n",
              "      <th>latitude</th>\n",
              "      <th>housing_median_age</th>\n",
              "      <th>total_rooms</th>\n",
              "      <th>total_bedrooms</th>\n",
              "      <th>population</th>\n",
              "      <th>households</th>\n",
              "      <th>median_income</th>\n",
              "      <th>median_house_value</th>\n",
              "    </tr>\n",
              "  </thead>\n",
              "  <tbody>\n",
              "    <tr>\n",
              "      <th>0</th>\n",
              "      <td>-114.31</td>\n",
              "      <td>34.19</td>\n",
              "      <td>15.0</td>\n",
              "      <td>5612.0</td>\n",
              "      <td>1283.0</td>\n",
              "      <td>1015.0</td>\n",
              "      <td>472.0</td>\n",
              "      <td>1.4936</td>\n",
              "      <td>66900.0</td>\n",
              "    </tr>\n",
              "    <tr>\n",
              "      <th>1</th>\n",
              "      <td>-114.47</td>\n",
              "      <td>34.40</td>\n",
              "      <td>19.0</td>\n",
              "      <td>7650.0</td>\n",
              "      <td>1901.0</td>\n",
              "      <td>1129.0</td>\n",
              "      <td>463.0</td>\n",
              "      <td>1.8200</td>\n",
              "      <td>80100.0</td>\n",
              "    </tr>\n",
              "    <tr>\n",
              "      <th>2</th>\n",
              "      <td>-114.56</td>\n",
              "      <td>33.69</td>\n",
              "      <td>17.0</td>\n",
              "      <td>720.0</td>\n",
              "      <td>174.0</td>\n",
              "      <td>333.0</td>\n",
              "      <td>117.0</td>\n",
              "      <td>1.6509</td>\n",
              "      <td>85700.0</td>\n",
              "    </tr>\n",
              "    <tr>\n",
              "      <th>3</th>\n",
              "      <td>-114.57</td>\n",
              "      <td>33.64</td>\n",
              "      <td>14.0</td>\n",
              "      <td>1501.0</td>\n",
              "      <td>337.0</td>\n",
              "      <td>515.0</td>\n",
              "      <td>226.0</td>\n",
              "      <td>3.1917</td>\n",
              "      <td>73400.0</td>\n",
              "    </tr>\n",
              "    <tr>\n",
              "      <th>4</th>\n",
              "      <td>-114.57</td>\n",
              "      <td>33.57</td>\n",
              "      <td>20.0</td>\n",
              "      <td>1454.0</td>\n",
              "      <td>326.0</td>\n",
              "      <td>624.0</td>\n",
              "      <td>262.0</td>\n",
              "      <td>1.9250</td>\n",
              "      <td>65500.0</td>\n",
              "    </tr>\n",
              "  </tbody>\n",
              "</table>\n",
              "</div>\n",
              "      <button class=\"colab-df-convert\" onclick=\"convertToInteractive('df-b9c8b1d1-ee63-4d88-9ec0-d12d39a42a41')\"\n",
              "              title=\"Convert this dataframe to an interactive table.\"\n",
              "              style=\"display:none;\">\n",
              "        \n",
              "  <svg xmlns=\"http://www.w3.org/2000/svg\" height=\"24px\"viewBox=\"0 0 24 24\"\n",
              "       width=\"24px\">\n",
              "    <path d=\"M0 0h24v24H0V0z\" fill=\"none\"/>\n",
              "    <path d=\"M18.56 5.44l.94 2.06.94-2.06 2.06-.94-2.06-.94-.94-2.06-.94 2.06-2.06.94zm-11 1L8.5 8.5l.94-2.06 2.06-.94-2.06-.94L8.5 2.5l-.94 2.06-2.06.94zm10 10l.94 2.06.94-2.06 2.06-.94-2.06-.94-.94-2.06-.94 2.06-2.06.94z\"/><path d=\"M17.41 7.96l-1.37-1.37c-.4-.4-.92-.59-1.43-.59-.52 0-1.04.2-1.43.59L10.3 9.45l-7.72 7.72c-.78.78-.78 2.05 0 2.83L4 21.41c.39.39.9.59 1.41.59.51 0 1.02-.2 1.41-.59l7.78-7.78 2.81-2.81c.8-.78.8-2.07 0-2.86zM5.41 20L4 18.59l7.72-7.72 1.47 1.35L5.41 20z\"/>\n",
              "  </svg>\n",
              "      </button>\n",
              "      \n",
              "  <style>\n",
              "    .colab-df-container {\n",
              "      display:flex;\n",
              "      flex-wrap:wrap;\n",
              "      gap: 12px;\n",
              "    }\n",
              "\n",
              "    .colab-df-convert {\n",
              "      background-color: #E8F0FE;\n",
              "      border: none;\n",
              "      border-radius: 50%;\n",
              "      cursor: pointer;\n",
              "      display: none;\n",
              "      fill: #1967D2;\n",
              "      height: 32px;\n",
              "      padding: 0 0 0 0;\n",
              "      width: 32px;\n",
              "    }\n",
              "\n",
              "    .colab-df-convert:hover {\n",
              "      background-color: #E2EBFA;\n",
              "      box-shadow: 0px 1px 2px rgba(60, 64, 67, 0.3), 0px 1px 3px 1px rgba(60, 64, 67, 0.15);\n",
              "      fill: #174EA6;\n",
              "    }\n",
              "\n",
              "    [theme=dark] .colab-df-convert {\n",
              "      background-color: #3B4455;\n",
              "      fill: #D2E3FC;\n",
              "    }\n",
              "\n",
              "    [theme=dark] .colab-df-convert:hover {\n",
              "      background-color: #434B5C;\n",
              "      box-shadow: 0px 1px 3px 1px rgba(0, 0, 0, 0.15);\n",
              "      filter: drop-shadow(0px 1px 2px rgba(0, 0, 0, 0.3));\n",
              "      fill: #FFFFFF;\n",
              "    }\n",
              "  </style>\n",
              "\n",
              "      <script>\n",
              "        const buttonEl =\n",
              "          document.querySelector('#df-b9c8b1d1-ee63-4d88-9ec0-d12d39a42a41 button.colab-df-convert');\n",
              "        buttonEl.style.display =\n",
              "          google.colab.kernel.accessAllowed ? 'block' : 'none';\n",
              "\n",
              "        async function convertToInteractive(key) {\n",
              "          const element = document.querySelector('#df-b9c8b1d1-ee63-4d88-9ec0-d12d39a42a41');\n",
              "          const dataTable =\n",
              "            await google.colab.kernel.invokeFunction('convertToInteractive',\n",
              "                                                     [key], {});\n",
              "          if (!dataTable) return;\n",
              "\n",
              "          const docLinkHtml = 'Like what you see? Visit the ' +\n",
              "            '<a target=\"_blank\" href=https://colab.research.google.com/notebooks/data_table.ipynb>data table notebook</a>'\n",
              "            + ' to learn more about interactive tables.';\n",
              "          element.innerHTML = '';\n",
              "          dataTable['output_type'] = 'display_data';\n",
              "          await google.colab.output.renderOutput(dataTable, element);\n",
              "          const docLink = document.createElement('div');\n",
              "          docLink.innerHTML = docLinkHtml;\n",
              "          element.appendChild(docLink);\n",
              "        }\n",
              "      </script>\n",
              "    </div>\n",
              "  </div>\n",
              "  "
            ]
          },
          "metadata": {},
          "execution_count": 100
        }
      ]
    },
    {
      "cell_type": "code",
      "source": [
        "import matplotlib.pyplot as plt\n",
        "\n",
        "df['median_house_value'].hist()\n",
        "plt.show()"
      ],
      "metadata": {
        "colab": {
          "base_uri": "https://localhost:8080/",
          "height": 437
        },
        "id": "BpPfNKElr4vS",
        "outputId": "f42b64ce-4f3f-40fc-a78f-72f6bdccbb11"
      },
      "execution_count": 101,
      "outputs": [
        {
          "output_type": "display_data",
          "data": {
            "text/plain": [
              "<Figure size 640x480 with 1 Axes>"
            ],
            "image/png": "[encoded data removed]"
          },
          "metadata": {}
        }
      ]
    },
    {
      "cell_type": "code",
      "source": [
        "# create a new target variable for SMOTE\n",
        "import numpy as np\n",
        "\n",
        "# nice imbalanced data!\n",
        "df['median_house_value'] = np.where(df['median_house_value'] < 380000, 1, 0)\n",
        "df['median_house_value'].value_counts()"
      ],
      "metadata": {
        "colab": {
          "base_uri": "https://localhost:8080/"
        },
        "id": "P009tBzPsXLC",
        "outputId": "75929a32-a9bc-4621-ab35-c680729a3f2a"
      },
      "execution_count": 102,
      "outputs": [
        {
          "output_type": "execute_result",
          "data": {
            "text/plain": [
              "1    15304\n",
              "0     1696\n",
              "Name: median_house_value, dtype: int64"
            ]
          },
          "metadata": {},
          "execution_count": 102
        }
      ]
    },
    {
      "cell_type": "markdown",
      "source": [
        "# (5 pts) Split data into train and test \n",
        "Remember, your dataset should be split into train and test FIRST so that the test dataset retains the original distribution of 0s and 1s. No SMOTE data in the test partition - your boss only cares about real rows!"
      ],
      "metadata": {
        "id": "sayCYaFuspLm"
      }
    },
    {
      "cell_type": "code",
      "source": [
        "y=df['median_house_value']\n",
        "X=df.drop('median_house_value',axis=1)\n",
        "print(y.shape,X.shape)"
      ],
      "metadata": {
        "colab": {
          "base_uri": "https://localhost:8080/"
        },
        "id": "3SnayR4yUedt",
        "outputId": "1e4c00dc-9da6-4c13-b114-bb2cf4bb3b36"
      },
      "execution_count": 103,
      "outputs": [
        {
          "output_type": "stream",
          "name": "stdout",
          "text": [
            "(17000,) (17000, 8)\n"
          ]
        }
      ]
    },
    {
      "cell_type": "code",
      "source": [
        "from sklearn.model_selection import train_test_split\n",
        "\n",
        "X_train, X_test, y_train, y_test = train_test_split(X, y, test_size=0.2, random_state=123)\n",
        "\n",
        "print(X_train.shape, X_test.shape)\n",
        "print(y_train.shape, y_test.shape) "
      ],
      "metadata": {
        "colab": {
          "base_uri": "https://localhost:8080/"
        },
        "id": "j5E5hpl4VxJx",
        "outputId": "0c9c930a-f49f-4e1c-aadf-fbd17d9fbd64"
      },
      "execution_count": 104,
      "outputs": [
        {
          "output_type": "stream",
          "name": "stdout",
          "text": [
            "(13600, 8) (3400, 8)\n",
            "(13600,) (3400,)\n"
          ]
        }
      ]
    },
    {
      "cell_type": "code",
      "source": [
        "from collections import Counter\n",
        "Counter(y)"
      ],
      "metadata": {
        "colab": {
          "base_uri": "https://localhost:8080/"
        },
        "id": "I5l8ooOetO97",
        "outputId": "c1f0670d-8c8e-4c6a-c077-86af29ce2263"
      },
      "execution_count": 105,
      "outputs": [
        {
          "output_type": "execute_result",
          "data": {
            "text/plain": [
              "Counter({1: 15304, 0: 1696})"
            ]
          },
          "metadata": {},
          "execution_count": 105
        }
      ]
    },
    {
      "cell_type": "markdown",
      "source": [
        "# (15 pts) Majority Undersampling\n",
        "Perform majority undersampling and evaluate model performance (use confusion matrices, classifcation report) and make comments about what you see."
      ],
      "metadata": {
        "id": "Jbsq-9UJpbIf"
      }
    },
    {
      "cell_type": "code",
      "source": [
        "from sklearn.datasets import make_classification\n",
        "from imblearn.under_sampling import RandomUnderSampler"
      ],
      "metadata": {
        "id": "KmDZ8ib3phCK"
      },
      "execution_count": 106,
      "outputs": []
    },
    {
      "cell_type": "code",
      "source": [
        "# use imblearn to perform majority undersampling on X_train, evaluate on test partition\n",
        "undersample=RandomUnderSampler(sampling_strategy='majority')\n",
        "X_train_under,y_train_under=undersample.fit_resample(X_train,y_train)\n",
        "counter=Counter(y_train_under)\n",
        "print(counter)"
      ],
      "metadata": {
        "colab": {
          "base_uri": "https://localhost:8080/"
        },
        "id": "egyJbK_ctpRJ",
        "outputId": "13f91a92-57de-488a-b642-1f1de8e406a5"
      },
      "execution_count": 107,
      "outputs": [
        {
          "output_type": "stream",
          "name": "stdout",
          "text": [
            "Counter({0: 1346, 1: 1346})\n"
          ]
        }
      ]
    },
    {
      "cell_type": "code",
      "source": [
        "X_train_under.info()"
      ],
      "metadata": {
        "colab": {
          "base_uri": "https://localhost:8080/"
        },
        "id": "chx1BN8QvbqO",
        "outputId": "4e33acb6-bdc0-42ce-d3df-40043816f9ca"
      },
      "execution_count": 108,
      "outputs": [
        {
          "output_type": "stream",
          "name": "stdout",
          "text": [
            "<class 'pandas.core.frame.DataFrame'>\n",
            "RangeIndex: 2692 entries, 0 to 2691\n",
            "Data columns (total 8 columns):\n",
            " #   Column              Non-Null Count  Dtype  \n",
            "---  ------              --------------  -----  \n",
            " 0   longitude           2692 non-null   float64\n",
            " 1   latitude            2692 non-null   float64\n",
            " 2   housing_median_age  2692 non-null   float64\n",
            " 3   total_rooms         2692 non-null   float64\n",
            " 4   total_bedrooms      2692 non-null   float64\n",
            " 5   population          2692 non-null   float64\n",
            " 6   households          2692 non-null   float64\n",
            " 7   median_income       2692 non-null   float64\n",
            "dtypes: float64(8)\n",
            "memory usage: 168.4 KB\n"
          ]
        }
      ]
    },
    {
      "cell_type": "code",
      "source": [
        "from sklearn.tree import DecisionTreeClassifier\n",
        "from sklearn.metrics import classification_report\n",
        "from sklearn.metrics import confusion_matrix\n",
        "DTC = DecisionTreeClassifier(min_samples_split=5)"
      ],
      "metadata": {
        "id": "c9gA-eMCuzWI"
      },
      "execution_count": 109,
      "outputs": []
    },
    {
      "cell_type": "code",
      "source": [
        "# Fit original data and apply to the Decision Tree Classification model\n",
        "DTC.fit(X_train,y_train)\n",
        "train_preds_org=DTC.predict(X_train)\n",
        "test_preds_org=DTC.predict(X_test)\n",
        "\n",
        "print('Train results (original): \\n')\n",
        "print(classification_report(y_train, train_preds_org))\n",
        "print('Test results (original): \\n')\n",
        "print(classification_report(y_test, test_preds_org))\n",
        "#Confusion matrix\n",
        "print('⊙ Confusion matrix for original datasets: \\n')\n",
        "cf=confusion_matrix(y_test, test_preds_org)\n",
        "print(cf)"
      ],
      "metadata": {
        "colab": {
          "base_uri": "https://localhost:8080/"
        },
        "id": "sMv2u7wKu7Ev",
        "outputId": "7e2deb12-202e-4781-ac0a-46703dfe99b2"
      },
      "execution_count": 110,
      "outputs": [
        {
          "output_type": "stream",
          "name": "stdout",
          "text": [
            "Train results (original): \n",
            "\n",
            "              precision    recall  f1-score   support\n",
            "\n",
            "           0       0.94      0.96      0.95      1346\n",
            "           1       1.00      0.99      0.99     12254\n",
            "\n",
            "    accuracy                           0.99     13600\n",
            "   macro avg       0.97      0.98      0.97     13600\n",
            "weighted avg       0.99      0.99      0.99     13600\n",
            "\n",
            "Test results (original): \n",
            "\n",
            "              precision    recall  f1-score   support\n",
            "\n",
            "           0       0.59      0.61      0.60       350\n",
            "           1       0.95      0.95      0.95      3050\n",
            "\n",
            "    accuracy                           0.92      3400\n",
            "   macro avg       0.77      0.78      0.78      3400\n",
            "weighted avg       0.92      0.92      0.92      3400\n",
            "\n",
            "⊙ Confusion matrix for original datasets: \n",
            "\n",
            "[[ 212  138]\n",
            " [ 146 2904]]\n"
          ]
        }
      ]
    },
    {
      "cell_type": "code",
      "source": [
        "# Fit undersampling dataset and apply to the Decision Tree Classification model\n",
        "DTC.fit(X_train_under,y_train_under)\n",
        "train_preds_under=DTC.predict(X_train_under)\n",
        "test_preds_under=DTC.predict(X_test)\n",
        "\n",
        "print('<Classification report of Undersampling dataset> \\n')\n",
        "\n",
        "print('Train results : \\n')\n",
        "print(classification_report(y_train_under, train_preds_under))\n",
        "print('Test results: \\n')\n",
        "print(classification_report(y_test, test_preds_under))\n",
        "\n",
        "#Confusion matrix\n",
        "print('⊙ Confusion matrix for undersampling datasets: \\n')\n",
        "cf_under=confusion_matrix(y_test, test_preds_under)\n",
        "print(cf_under)"
      ],
      "metadata": {
        "colab": {
          "base_uri": "https://localhost:8080/"
        },
        "id": "rNcDHmT9wTHV",
        "outputId": "a342c9a6-7335-49c4-9226-f6dd19443087"
      },
      "execution_count": 111,
      "outputs": [
        {
          "output_type": "stream",
          "name": "stdout",
          "text": [
            "<Classification report of Undersampling dataset> \n",
            "\n",
            "Train results : \n",
            "\n",
            "              precision    recall  f1-score   support\n",
            "\n",
            "           0       0.98      0.99      0.98      1346\n",
            "           1       0.99      0.98      0.98      1346\n",
            "\n",
            "    accuracy                           0.98      2692\n",
            "   macro avg       0.98      0.98      0.98      2692\n",
            "weighted avg       0.98      0.98      0.98      2692\n",
            "\n",
            "Test results: \n",
            "\n",
            "              precision    recall  f1-score   support\n",
            "\n",
            "           0       0.35      0.83      0.50       350\n",
            "           1       0.98      0.83      0.90      3050\n",
            "\n",
            "    accuracy                           0.83      3400\n",
            "   macro avg       0.67      0.83      0.70      3400\n",
            "weighted avg       0.91      0.83      0.85      3400\n",
            "\n",
            "⊙ Confusion matrix for undersampling datasets: \n",
            "\n",
            "[[ 292   58]\n",
            " [ 531 2519]]\n"
          ]
        }
      ]
    },
    {
      "cell_type": "markdown",
      "source": [
        "- When I applied an undersampled dataset to the DTC model, the accuracy decreased from 92% to 81%. \n",
        "- The training results showed an accuracy of 96%, with precision and recall scores of 0.96. However, the test results differed, with a recall score of 0.81 and a high precision score for class '1', but a precision score of under 50% for class '0'. \n",
        "- I can find in the results that modeling with an undersampled dataset shows low recall and high precision for class '1'. This means the model missed many true positive results in the classification. \n",
        "- Overall, the metrics show this undersampling is not a good strategy for balancing the training datasets."
      ],
      "metadata": {
        "id": "49sJOLviAAvK"
      }
    },
    {
      "cell_type": "markdown",
      "source": [
        "# (15 pts) Minority Oversampling\n",
        "Perform minority oversampling and evaluate model performance (use confusion matrices, classifcation report) and make comments about what you see."
      ],
      "metadata": {
        "id": "BKsan5mUpc1q"
      }
    },
    {
      "cell_type": "code",
      "source": [
        "# use imblearn to perform minority oversampling on X_train, evaluate on test partition\n",
        "from imblearn.over_sampling import RandomOverSampler"
      ],
      "metadata": {
        "id": "QIq3qesEphcY"
      },
      "execution_count": 112,
      "outputs": []
    },
    {
      "cell_type": "code",
      "source": [
        "oversample = RandomOverSampler(sampling_strategy='minority')\n",
        "# fit and apply the transform\n",
        "X_train_over, y_train_over = oversample.fit_resample(X_train,y_train)\n",
        "# summarize class distribution\n",
        "print(Counter(y_train_over))"
      ],
      "metadata": {
        "colab": {
          "base_uri": "https://localhost:8080/"
        },
        "id": "AthMWjMz_uoZ",
        "outputId": "6d13b279-483d-4848-a0fd-54a31af859b9"
      },
      "execution_count": 113,
      "outputs": [
        {
          "output_type": "stream",
          "name": "stdout",
          "text": [
            "Counter({1: 12254, 0: 12254})\n"
          ]
        }
      ]
    },
    {
      "cell_type": "code",
      "source": [
        "X_train_over.info()"
      ],
      "metadata": {
        "colab": {
          "base_uri": "https://localhost:8080/"
        },
        "id": "ocnORbv0AH2X",
        "outputId": "a9f673da-9c0d-4e35-fc6e-70cd2c01c6ee"
      },
      "execution_count": 114,
      "outputs": [
        {
          "output_type": "stream",
          "name": "stdout",
          "text": [
            "<class 'pandas.core.frame.DataFrame'>\n",
            "RangeIndex: 24508 entries, 0 to 24507\n",
            "Data columns (total 8 columns):\n",
            " #   Column              Non-Null Count  Dtype  \n",
            "---  ------              --------------  -----  \n",
            " 0   longitude           24508 non-null  float64\n",
            " 1   latitude            24508 non-null  float64\n",
            " 2   housing_median_age  24508 non-null  float64\n",
            " 3   total_rooms         24508 non-null  float64\n",
            " 4   total_bedrooms      24508 non-null  float64\n",
            " 5   population          24508 non-null  float64\n",
            " 6   households          24508 non-null  float64\n",
            " 7   median_income       24508 non-null  float64\n",
            "dtypes: float64(8)\n",
            "memory usage: 1.5 MB\n"
          ]
        }
      ]
    },
    {
      "cell_type": "code",
      "source": [
        "# Fit oversampling dataset\n",
        "DTC.fit(X_train_over, y_train_over)\n",
        "train_preds_over=DTC.predict(X_train_over)\n",
        "test_preds_over=DTC.predict(X_test)\n",
        "\n",
        "print('<Classification report of Oversampling dataset> \\n')\n",
        "print('1) Train results: \\n')\n",
        "print(classification_report(y_train_over, train_preds_over))\n",
        "print('2) Test results: \\n')\n",
        "print(classification_report(y_test, test_preds_over))\n",
        "\n",
        "#Confusion matrix\n",
        "print('⊙ Confusion matrix for oversampling datasets: \\n')\n",
        "cf_over=confusion_matrix(y_test, test_preds_over)\n",
        "print(cf_over)"
      ],
      "metadata": {
        "colab": {
          "base_uri": "https://localhost:8080/"
        },
        "id": "fEjjN1zxAZur",
        "outputId": "feab2f9b-541a-42cf-b70a-731046bb343a"
      },
      "execution_count": 115,
      "outputs": [
        {
          "output_type": "stream",
          "name": "stdout",
          "text": [
            "<Classification report of Oversampling dataset> \n",
            "\n",
            "1) Train results: \n",
            "\n",
            "              precision    recall  f1-score   support\n",
            "\n",
            "           0       1.00      1.00      1.00     12254\n",
            "           1       1.00      1.00      1.00     12254\n",
            "\n",
            "    accuracy                           1.00     24508\n",
            "   macro avg       1.00      1.00      1.00     24508\n",
            "weighted avg       1.00      1.00      1.00     24508\n",
            "\n",
            "2) Test results: \n",
            "\n",
            "              precision    recall  f1-score   support\n",
            "\n",
            "           0       0.59      0.59      0.59       350\n",
            "           1       0.95      0.95      0.95      3050\n",
            "\n",
            "    accuracy                           0.92      3400\n",
            "   macro avg       0.77      0.77      0.77      3400\n",
            "weighted avg       0.92      0.92      0.92      3400\n",
            "\n",
            "⊙ Confusion matrix for oversampling datasets: \n",
            "\n",
            "[[ 205  145]\n",
            " [ 142 2908]]\n"
          ]
        }
      ]
    },
    {
      "cell_type": "markdown",
      "source": [
        "\n",
        "- When I applied an oversampled dataset to the DTC model, the weighted average accuracy score from the test results was 92%, which was the same as the original dataset. \n",
        "- The overall scores from the test results were also very similar to the modeling results from the original dataset. \n",
        "- Although the oversampled dataset did not improve the classification results, the overall scores were close to the results from the original dataset modeling. \n",
        "- Based on these findings, oversampling appears to be a good strategy for addressing an unbalanced dataset."
      ],
      "metadata": {
        "id": "ngmpC7w_IIXq"
      }
    },
    {
      "cell_type": "markdown",
      "source": [
        "# (15 pts) SMOTE\n",
        "Perform synthetic minority oversampling and evaluate model performance (use confusion matrices, classifcation report) and make comments about what you see."
      ],
      "metadata": {
        "id": "V1VyzC2Kpekb"
      }
    },
    {
      "cell_type": "code",
      "source": [
        "# use imblearn to perform synthetic minority data on X_train, evaluate on test partition\n",
        "from imblearn.over_sampling import SMOTE"
      ],
      "metadata": {
        "id": "y91UqJiApiBV"
      },
      "execution_count": 116,
      "outputs": []
    },
    {
      "cell_type": "code",
      "source": [
        "smotespl = SMOTE(k_neighbors=9)\n",
        "X_train_smt, y_train_smt = smotespl.fit_resample(X_train, y_train)\n",
        "counter = Counter(y_train_smt)\n",
        "print(counter)"
      ],
      "metadata": {
        "colab": {
          "base_uri": "https://localhost:8080/"
        },
        "id": "LaDRii0PBdqj",
        "outputId": "60be41bc-4520-476f-892a-77e6a62ef134"
      },
      "execution_count": 117,
      "outputs": [
        {
          "output_type": "stream",
          "name": "stdout",
          "text": [
            "Counter({1: 12254, 0: 12254})\n"
          ]
        }
      ]
    },
    {
      "cell_type": "code",
      "source": [
        "DTC.fit(X_train_smt, y_train_smt)\n",
        "train_preds_smt = DTC.predict(X_train_smt)\n",
        "test_preds_smt = DTC.predict(X_test)\n",
        "\n",
        "print('<Classification report of SMOTE dataset> \\n')\n",
        "print('Train results: \\n')\n",
        "print(classification_report(y_train_smt, train_preds_smt))\n",
        "print('Test results: \\n')\n",
        "print(classification_report(y_test, test_preds_smt))\n",
        "\n",
        "#Confusion matrix\n",
        "print('⊙ Confusion matrix for SMOTE datasets: \\n')\n",
        "cf_smt=confusion_matrix(y_test, test_preds_smt)\n",
        "print(cf_smt)"
      ],
      "metadata": {
        "colab": {
          "base_uri": "https://localhost:8080/"
        },
        "id": "JsDfDAPlB4aX",
        "outputId": "49d68ac4-76e7-44b8-d044-f55ff449ee35"
      },
      "execution_count": 118,
      "outputs": [
        {
          "output_type": "stream",
          "name": "stdout",
          "text": [
            "<Classification report of SMOTE dataset> \n",
            "\n",
            "Train results: \n",
            "\n",
            "              precision    recall  f1-score   support\n",
            "\n",
            "           0       0.99      0.99      0.99     12254\n",
            "           1       0.99      0.99      0.99     12254\n",
            "\n",
            "    accuracy                           0.99     24508\n",
            "   macro avg       0.99      0.99      0.99     24508\n",
            "weighted avg       0.99      0.99      0.99     24508\n",
            "\n",
            "Test results: \n",
            "\n",
            "              precision    recall  f1-score   support\n",
            "\n",
            "           0       0.46      0.73      0.57       350\n",
            "           1       0.97      0.90      0.93      3050\n",
            "\n",
            "    accuracy                           0.89      3400\n",
            "   macro avg       0.72      0.82      0.75      3400\n",
            "weighted avg       0.92      0.89      0.90      3400\n",
            "\n",
            "⊙ Confusion matrix for SMOTE datasets: \n",
            "\n",
            "[[ 256   94]\n",
            " [ 295 2755]]\n"
          ]
        }
      ]
    },
    {
      "cell_type": "markdown",
      "source": [
        "- When I applied a SMOTE dataset to the DTC model, the average accuracy score from the test results was 89%, slightly decreased from the original dataset.\n",
        "- Although the recall scores are improved, precision scores are decreased.\n",
        "- Overall, the classification result using SMOTE strategy decreased."
      ],
      "metadata": {
        "id": "VmxNv1w-MU9g"
      }
    },
    {
      "cell_type": "markdown",
      "source": [
        "# (5 pts) Comparison of 3 methods\n",
        "Out of the three methods, did any do the best? Make a few comments about what you see."
      ],
      "metadata": {
        "id": "l74UnVGUwDht"
      }
    },
    {
      "cell_type": "code",
      "source": [
        "print(\"Train result: \\n\")\n",
        "print('Undersampling: \\n')\n",
        "print(classification_report(y_train_under, train_preds_under))\n",
        "print('Oversampling: \\n')\n",
        "print(classification_report(y_train_over, train_preds_over))\n",
        "print('SMOTE: \\n')\n",
        "print(classification_report(y_train_smt, train_preds_smt))"
      ],
      "metadata": {
        "colab": {
          "base_uri": "https://localhost:8080/"
        },
        "id": "GVRqnvIsCDzy",
        "outputId": "5915ee8a-46e4-4d43-b656-b2c236d5742a"
      },
      "execution_count": 119,
      "outputs": [
        {
          "output_type": "stream",
          "name": "stdout",
          "text": [
            "Train result: \n",
            "\n",
            "Undersampling: \n",
            "\n",
            "              precision    recall  f1-score   support\n",
            "\n",
            "           0       0.98      0.99      0.98      1346\n",
            "           1       0.99      0.98      0.98      1346\n",
            "\n",
            "    accuracy                           0.98      2692\n",
            "   macro avg       0.98      0.98      0.98      2692\n",
            "weighted avg       0.98      0.98      0.98      2692\n",
            "\n",
            "Oversampling: \n",
            "\n",
            "              precision    recall  f1-score   support\n",
            "\n",
            "           0       1.00      1.00      1.00     12254\n",
            "           1       1.00      1.00      1.00     12254\n",
            "\n",
            "    accuracy                           1.00     24508\n",
            "   macro avg       1.00      1.00      1.00     24508\n",
            "weighted avg       1.00      1.00      1.00     24508\n",
            "\n",
            "SMOTE: \n",
            "\n",
            "              precision    recall  f1-score   support\n",
            "\n",
            "           0       0.99      0.99      0.99     12254\n",
            "           1       0.99      0.99      0.99     12254\n",
            "\n",
            "    accuracy                           0.99     24508\n",
            "   macro avg       0.99      0.99      0.99     24508\n",
            "weighted avg       0.99      0.99      0.99     24508\n",
            "\n"
          ]
        }
      ]
    },
    {
      "cell_type": "code",
      "source": [
        "print(\"Test result: \\n\")\n",
        "print('Undersampling: \\n')\n",
        "print(classification_report(y_test, test_preds_under))\n",
        "print('Oversampling: \\n')\n",
        "print(classification_report(y_test, test_preds_over))\n",
        "print('SMOTE: \\n')\n",
        "print(classification_report(y_test, test_preds_smt))"
      ],
      "metadata": {
        "colab": {
          "base_uri": "https://localhost:8080/"
        },
        "id": "Zv8FsOW2Co1W",
        "outputId": "d956576e-2c24-4da4-fba5-57008dfe77e7"
      },
      "execution_count": 120,
      "outputs": [
        {
          "output_type": "stream",
          "name": "stdout",
          "text": [
            "Test result: \n",
            "\n",
            "Undersampling: \n",
            "\n",
            "              precision    recall  f1-score   support\n",
            "\n",
            "           0       0.35      0.83      0.50       350\n",
            "           1       0.98      0.83      0.90      3050\n",
            "\n",
            "    accuracy                           0.83      3400\n",
            "   macro avg       0.67      0.83      0.70      3400\n",
            "weighted avg       0.91      0.83      0.85      3400\n",
            "\n",
            "Oversampling: \n",
            "\n",
            "              precision    recall  f1-score   support\n",
            "\n",
            "           0       0.59      0.59      0.59       350\n",
            "           1       0.95      0.95      0.95      3050\n",
            "\n",
            "    accuracy                           0.92      3400\n",
            "   macro avg       0.77      0.77      0.77      3400\n",
            "weighted avg       0.92      0.92      0.92      3400\n",
            "\n",
            "SMOTE: \n",
            "\n",
            "              precision    recall  f1-score   support\n",
            "\n",
            "           0       0.46      0.73      0.57       350\n",
            "           1       0.97      0.90      0.93      3050\n",
            "\n",
            "    accuracy                           0.89      3400\n",
            "   macro avg       0.72      0.82      0.75      3400\n",
            "weighted avg       0.92      0.89      0.90      3400\n",
            "\n"
          ]
        }
      ]
    },
    {
      "cell_type": "code",
      "source": [
        "# Confusion Matrix\n",
        "\n",
        "print(\"Comparision of confusion matrix: \\n\")\n",
        "print('Undersampling: \\n')\n",
        "print(cf_under,'\\n')\n",
        "print('Oversampling: \\n')\n",
        "print(cf_over,'\\n')\n",
        "print('SMOTE: \\n')\n",
        "print(cf_smt)"
      ],
      "metadata": {
        "colab": {
          "base_uri": "https://localhost:8080/"
        },
        "id": "EGueHjgf8GuW",
        "outputId": "665c480e-f83d-4e20-98f7-f903a8abb527"
      },
      "execution_count": 121,
      "outputs": [
        {
          "output_type": "stream",
          "name": "stdout",
          "text": [
            "Comparision of confusion matrix: \n",
            "\n",
            "Undersampling: \n",
            "\n",
            "[[ 292   58]\n",
            " [ 531 2519]] \n",
            "\n",
            "Oversampling: \n",
            "\n",
            "[[ 205  145]\n",
            " [ 142 2908]] \n",
            "\n",
            "SMOTE: \n",
            "\n",
            "[[ 256   94]\n",
            " [ 295 2755]]\n"
          ]
        }
      ]
    },
    {
      "cell_type": "markdown",
      "source": [
        "**Comments for the comparison result**\n",
        "- When I compared the modeling results using three different sampling methods, I found that the oversampling method produced the highest accuracy. \n",
        "- The other two models had a higher number of misclassified positive values, which means that two models have a greater number of FN compared to the original dataset.\n",
        "- All three sampling methods resulted in a low precision score for class '0'."
      ],
      "metadata": {
        "id": "Kw480GBK86Gj"
      }
    },
    {
      "cell_type": "markdown",
      "source": [
        "# (40 pts) Reproducibility - run it 30 times or more!\n",
        "This is one is a little tougher - choose any method and replicate it at least 30 times using a for loop. This means you will split into train and test 30 times (which means you should choose a random_state equal to 'i' as your for loop spins.) \n",
        "\n",
        "The purpose of this is so that you can show the distribution (hopefully a bell curve but not necessarily) of accuracy, precision and recall. Do some folds get predicted better than others? \n",
        "\n"
      ],
      "metadata": {
        "id": "szsg5sSgtKWP"
      }
    },
    {
      "cell_type": "code",
      "source": [
        "from imblearn.over_sampling import SMOTE"
      ],
      "metadata": {
        "id": "6IV7TGSKbJli"
      },
      "execution_count": 122,
      "outputs": []
    },
    {
      "cell_type": "code",
      "source": [
        "from sklearn.metrics import accuracy_score\n",
        "from sklearn.metrics import precision_score\n",
        "from sklearn.metrics import recall_score\n",
        "\n",
        "n_iterations=30\n",
        "\n",
        "accuracy_scores=[]\n",
        "precision_scores=[]\n",
        "recall_scores=[]\n",
        "\n",
        "# split the sample dataset into train and validation data \n",
        "for i in range(n_iterations):\n",
        "  X_train_it, X_test_it, y_train_it, y_test_it=train_test_split(X,y, test_size=0.2, random_state=i)\n",
        "\n",
        "# Resampling the dataset using SMOTE \n",
        "  smotespl = SMOTE(k_neighbors=9)\n",
        "  X_res, y_res = smotespl.fit_resample(X_train_it, y_train_it) \n",
        "\n",
        "# Fit the decision tree model \n",
        "  DTC.fit(X_res,y_res)\n",
        "  train_preds_it=DTC.predict(X_res)\n",
        "  test_preds_it= DTC.predict(X_test_it)\n",
        "\n",
        "# Check the accuracy\n",
        "  accuracy=accuracy_score(y_test_it,test_preds_it)\n",
        "  accuracy_scores.append(accuracy)\n",
        "# Precision score\n",
        "  precision=precision_score(y_test_it,test_preds_it)\n",
        "  precision_scores.append(precision)\n",
        "# Recall score  \n",
        "  recall=recall_score(y_test_it,test_preds_it)\n",
        "  recall_scores.append(recall)\n",
        "\n",
        "# Calculate the average classification metrics \n",
        "average_accuracy=np.mean(accuracy_scores)\n",
        "average_precision=np.mean(precision_scores)\n",
        "average_recall=np.mean(recall_scores)\n",
        "\n",
        "print('Average accuracy: ',average_accuracy)\n",
        "print('Average precision: ', average_precision)\n",
        "print('Average recall: ', average_recall)"
      ],
      "metadata": {
        "colab": {
          "base_uri": "https://localhost:8080/"
        },
        "id": "ZrHdejsgDZDW",
        "outputId": "35f9a5fc-ff10-4058-c80c-6918ccb9fe06"
      },
      "execution_count": 128,
      "outputs": [
        {
          "output_type": "stream",
          "name": "stdout",
          "text": [
            "Average accuracy:  0.8911470588235295\n",
            "Average precision:  0.9679790168441563\n",
            "Average recall:  0.9092454728362935\n"
          ]
        }
      ]
    },
    {
      "cell_type": "code",
      "source": [
        "import seaborn as sns\n",
        "\n",
        "sns.set(style=\"whitegrid\")\n",
        "fig, ax = plt.subplots(ncols=3, figsize=(7,4))\n",
        "sns.boxplot(y=accuracy_scores, ax=ax[0])\n",
        "sns.boxplot(y=precision_scores, ax=ax[1])\n",
        "sns.boxplot(y=recall_scores, ax=ax[2])\n",
        "\n",
        "for a in ax:\n",
        "  a.set_ylim([0.86,1])\n",
        "\n",
        "ax[0].set_title('Accuracy Scores')\n",
        "ax[1].set_title('Precision Scores')\n",
        "ax[2].set_title('Recall Scores')\n",
        "\n",
        "plt.subplots_adjust(wspace=0.6)\n",
        "\n",
        "plt.show()"
      ],
      "metadata": {
        "colab": {
          "base_uri": "https://localhost:8080/",
          "height": 376
        },
        "id": "aHicMLwsvZkW",
        "outputId": "251d12ea-ea31-4dd5-9ef3-03e2f1af0291"
      },
      "execution_count": 127,
      "outputs": [
        {
          "output_type": "display_data",
          "data": {
            "text/plain": [
              "<Figure size 700x400 with 3 Axes>"
            ],
            "image/png": "[encoded data removed]"
          },
          "metadata": {}
        }
      ]
    },
    {
      "cell_type": "markdown",
      "source": [
        "- Based on the result of this assignment, my conclusion is that oversampling is the best strategy to address an unbalanced dataset. However, the metrics from applying SMOTE have a small gap with using the original dataset, I iterated the SMOTE to check the improvement of the classification metrics. \n",
        "- From the iteration results, I could find the precision improved a lot and other metrics improved slightly. \n",
        "- Precision: 0.92 → 0.97 / Accuracy 0.88 → 0.89 / Recall 0.88 → 0.91\n",
        "- In conclusion, the iteration improves the classification results.\n",
        "\n"
      ],
      "metadata": {
        "id": "-NNXBIArQ-kO"
      }
    },
    {
      "cell_type": "markdown",
      "source": [
        "# (5 pts) Comments on the repeated experiment\n",
        "Make some comments about what you saw! Feel free to run 100 or 1000 times if it runs fast enough 😏"
      ],
      "metadata": {
        "id": "UygKvNSrwN7k"
      }
    },
    {
      "cell_type": "code",
      "source": [
        "n_iterations=500\n",
        "\n",
        "accuracy_scores=[]\n",
        "precision_scores=[]\n",
        "recall_scores=[]\n",
        "\n",
        "# split the sample dataset into train and validation data \n",
        "for i in range(n_iterations):\n",
        "  X_train_it, X_test_it, y_train_it, y_test_it=train_test_split(X,y, test_size=0.2, random_state=i)\n",
        "\n",
        "# Resampling the dataset using SMOTE \n",
        "  smotespl = SMOTE(k_neighbors=9)\n",
        "  X_res, y_res = smotespl.fit_resample(X_train_it, y_train_it) \n",
        "\n",
        "# Fit the decision tree model \n",
        "  DTC.fit(X_res,y_res)\n",
        "  train_preds_it=DTC.predict(X_res)\n",
        "  test_preds_it= DTC.predict(X_test_it)\n",
        "\n",
        "# Check the accuracy\n",
        "  accuracy=accuracy_score(y_test_it,test_preds_it)\n",
        "  accuracy_scores.append(accuracy)\n",
        "# Precision score\n",
        "  precision=precision_score(y_test_it,test_preds_it)\n",
        "  precision_scores.append(precision)\n",
        "# Recall score  \n",
        "  recall=recall_score(y_test_it,test_preds_it)\n",
        "  recall_scores.append(recall)\n",
        "\n",
        "# Calculate the average classification metrics \n",
        "average_accuracy=np.mean(accuracy_scores)\n",
        "average_precision=np.mean(precision_scores)\n",
        "average_recall=np.mean(recall_scores)\n",
        "\n",
        "print('Average accuracy: ',average_accuracy)\n",
        "print('Average precision: ', average_precision)\n",
        "print('Average recall: ', average_recall)"
      ],
      "metadata": {
        "id": "2pv06tCoFHEg",
        "colab": {
          "base_uri": "https://localhost:8080/"
        },
        "outputId": "33f631ed-9d08-4c83-adc5-0d926f22fd4d"
      },
      "execution_count": 125,
      "outputs": [
        {
          "output_type": "stream",
          "name": "stdout",
          "text": [
            "Average accuracy:  0.8913011764705882\n",
            "Average precision:  0.9674227025138324\n",
            "Average recall:  0.909895846583109\n"
          ]
        }
      ]
    },
    {
      "cell_type": "code",
      "source": [
        "cf_smt_it=confusion_matrix(y_test_it, test_preds_it)\n",
        "print(cf_smt_it)"
      ],
      "metadata": {
        "colab": {
          "base_uri": "https://localhost:8080/"
        },
        "id": "1k_qXjmCQbOo",
        "outputId": "e5666d88-af38-48e1-a740-4f98fd56932b"
      },
      "execution_count": 126,
      "outputs": [
        {
          "output_type": "stream",
          "name": "stdout",
          "text": [
            "[[ 246   97]\n",
            " [ 283 2774]]\n"
          ]
        }
      ]
    },
    {
      "cell_type": "markdown",
      "source": [
        "- I iterated the SMOTE sample about 500 times and applied it to the DTC model. But the classification result does not show significant differences compared to the results of 30 times iterations.  \n",
        "- From these results, I can conclude that it is difficult to say that the performance of a model improves simply by repeating a large amount of data. While there may be some improvement up to a certain point, repeating data does not significantly improve the model's performance beyond that point.\n",
        "- Also, resampling data is not always give us much higher accurate classification results. As we need to balance the dataset to find the accuracy metrics, we should consider multiple sampling strategies to get a better modeling result. \n",
        "- In this case, the simple oversampling method shows the best classification results, but it can be changed depending on the datasets. So, we should consider undersampling, oversampling, and synthetic oversampling methods (SMOTE) to get the best classification result. \n"
      ],
      "metadata": {
        "id": "cPCzSQOvc93j"
      }
    }
  ]
}